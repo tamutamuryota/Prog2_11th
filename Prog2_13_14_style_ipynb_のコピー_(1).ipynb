{
  "nbformat": 4,
  "nbformat_minor": 0,
  "metadata": {
    "colab": {
      "name": "Prog2_13_14_style_ipynb_のコピー (1).ipynb",
      "provenance": [],
      "collapsed_sections": [],
      "include_colab_link": true
    },
    "kernelspec": {
      "name": "python3",
      "display_name": "Python 3"
    },
    "language_info": {
      "name": "python"
    }
  },
  "cells": [
    {
      "cell_type": "markdown",
      "metadata": {
        "id": "view-in-github",
        "colab_type": "text"
      },
      "source": [
        "<a href=\"https://colab.research.google.com/github/tamutamuryota/Prog2_11th/blob/main/Prog2_13_14_style_ipynb_%E3%81%AE%E3%82%B3%E3%83%94%E3%83%BC_(1).ipynb\" target=\"_parent\"><img src=\"https://colab.research.google.com/assets/colab-badge.svg\" alt=\"Open In Colab\"/></a>"
      ]
    },
    {
      "cell_type": "code",
      "source": [
        ""
      ],
      "metadata": {
        "id": "npmFIJuUJbnb"
      },
      "execution_count": null,
      "outputs": []
    },
    {
      "cell_type": "markdown",
      "source": [
        "# 使い方\n",
        "第13回，第14回授業用のひな形です．ドライブにコピーをして保存後，ファイル名を変更して使用してください．必要に応じて，コードやコメントのセルを追加して使用してください．\n",
        "\n",
        "この使い方のテキストのセルや各セルのコメントは削除して，使用してください．"
      ],
      "metadata": {
        "id": "rJhDTipMPFGh"
      }
    },
    {
      "cell_type": "markdown",
      "source": [
        "# はじめに\n",
        "\n",
        "ここに自分のグループ番号と学籍番号，氏名，同じグループの学生の学籍番号と氏名を記入してください．"
      ],
      "metadata": {
        "id": "cwIfC0QZQEZa"
      }
    },
    {
      "cell_type": "markdown",
      "source": [
        "# 問題1（初級）\n",
        "\n",
        "ここに問題を記入する\n",
        "①三角形をかけ。\n",
        "②それを対象移動しなさい。\n",
        "③また、それを\n",
        "* 問題提案者の氏名を問題末尾に記入して下さい．複数人で作成した場合は連名で構いません．\n",
        "2120131 田村凌汰です"
      ],
      "metadata": {
        "id": "vJuD8pFRFZYI"
      }
    },
    {
      "cell_type": "code",
      "execution_count": null,
      "metadata": {
        "id": "OwHmC1mnFRKN",
        "colab": {
          "base_uri": "https://localhost:8080/",
          "height": 298
        },
        "outputId": "73d67262-7d17-40fd-c206-5cf0177473c7"
      },
      "outputs": [
        {
          "output_type": "stream",
          "name": "stdout",
          "text": [
            "[[ 1  5  5  1]\n",
            " [-1 -1 -5 -1]]\n"
          ]
        },
        {
          "output_type": "display_data",
          "data": {
            "image/png": "[encoded data removed]",
            "text/plain": [
              "<Figure size 432x288 with 1 Axes>"
            ]
          },
          "metadata": {
            "needs_background": "light"
          }
        }
      ],
      "source": [
        "ki# ここに解答または解答例を記入する\n",
        "import numpy as np\n",
        "import matplotlib.pyplot as plt\n",
        "\n",
        "x = np.matrix([[1,5,5,1],[1,1,5,1]])\n",
        "y = np.matrix([[1,0],[0,-1]])\n",
        "z = y*x\n",
        "print(z)\n",
        "\n",
        "p = np.array(x)\n",
        "p2 = np.array(z)\n",
        "plt.plot(p[0,:],p[1,:])\n",
        "plt.plot(p2[0,:],p2[1,:])\n",
        "plt.axis('equal')\n",
        "plt.grid(color='0.8')\n",
        "plt.show()"
      ]
    },
    {
      "cell_type": "markdown",
      "source": [
        "## 問題1解説\n",
        "解説はここに記入する．\n",
        "\n",
        "* 解説の執筆者の氏名を問題末尾に記入して下さい．複数人で作成した場合は連名で構いません．\n",
        "\n",
        "* 相手グループに問題を渡すときには，このファイルのコピーを作成し，解答例や解説を削除した上で，取得したリンクを共有する．"
      ],
      "metadata": {
        "id": "kal4elnlL_qX"
      }
    },
    {
      "cell_type": "markdown",
      "source": [
        "---\n",
        "# 問題2（中級）\n",
        "\n",
        "ここに問題を記入する．\n",
        "\n",
        "* 問題提案者の氏名を問題末尾に記入して下さい．複数人で作成した場合は連名で構いません．"
      ],
      "metadata": {
        "id": "Emsxxb6mFxPK"
      }
    },
    {
      "cell_type": "code",
      "source": [
        "# ここに解答または解答例を記入する\n",
        "import matplotlib.pyplot as plt\n",
        "import numpy as np\n",
        "import random\n",
        "\n",
        "nsteps = 1000\n",
        "\n",
        "draws = np.random.randint(0, 2, size=nsteps) # 0か1をint型でsize個生成\n",
        "steps = np.where(draws > 0, 1, -1)\n",
        "walk = np.cumsum(steps) # 1歩から1000歩まで\n",
        "walk = np.insert(walk, 0, 0) # walkの先頭（スタート）に0を挿入して完成。\n",
        "\n",
        "# こちらでも可\n",
        "# draws = np.random.randint(0, 2, size=nsteps+1) # 0か1をint型でsize+1個生成\n",
        "# steps = np.where(draws > 0, 1, -1)\n",
        "# steps[0] = 0 # 先頭に0を代入\n",
        "# walk = np.cumsum(steps)\n",
        "\n",
        "print(walk)\n",
        "plt.plot(walk)\n",
        "plt.show()\n"
      ],
      "metadata": {
        "id": "CRXOJbsYFyUX",
        "colab": {
          "base_uri": "https://localhost:8080/",
          "height": 282
        },
        "outputId": "d0ca4102-c03d-4e9d-c0cf-6ea9dff94f34"
      },
      "execution_count": null,
      "outputs": [
        {
          "output_type": "stream",
          "name": "stdout",
          "text": [
            "[  0   1   2 ... -12 -13 -12]\n"
          ]
        },
        {
          "output_type": "display_data",
          "data": {
            "image/png": "[encoded data removed]",
            "text/plain": [
              "<Figure size 432x288 with 1 Axes>"
            ]
          },
          "metadata": {
            "needs_background": "light"
          }
        }
      ]
    },
    {
      "cell_type": "markdown",
      "source": [
        "## 問題2解説\n",
        "解説はここに記入する．\n",
        "\n",
        "* 解説の執筆者の氏名を問題末尾に記入して下さい．複数人で作成した場合は連名で構いません．\n",
        "\n",
        "* 相手グループに問題を渡すときには，このファイルのコピーを作成し，解答例や解説を削除した上で，取得したリンクを共有する．"
      ],
      "metadata": {
        "id": "KiOvfBs2MfOW"
      }
    },
    {
      "cell_type": "markdown",
      "source": [
        "---\n",
        "# 問題3（上級）\n",
        "様々な座標のところにマルや四角が生み出して、座標は実行ごとに変化するものとする。色は固定でよい。\n",
        "\n",
        "\n",
        "* 問題提案者の氏名を問題末尾に記入して下さい．複数人で作成した場合は連名で構いません．\n",
        "小田雄一朗"
      ],
      "metadata": {
        "id": "YbyVRA8RFxcM"
      }
    },
    {
      "cell_type": "code",
      "source": [
        "\n",
        "from PIL import Image, ImageDraw\n",
        "from IPython.display import display\n",
        "import random\n",
        "\n",
        "\n",
        "w  = 320  \n",
        "h = 240  \n",
        "im = Image.new('RGB', (w,h), (255,255,255) )\n",
        "\n",
        "\n",
        "draw = ImageDraw.Draw(im)\n",
        "\n",
        "\n",
        "color = [\n",
        "         (   0,   0,   0),\n",
        "         ( 255,   0,   0),\n",
        "         (   0,   0, 255),\n",
        "         ( 255,   0, 255),\n",
        "         (   0, 255,   0),\n",
        "         ( 255, 255,   0),\n",
        "         (   0, 255, 255),\n",
        "         ( 255, 255, 255),\n",
        "]\n",
        "\n",
        "for i in range(8):\n",
        "  size = 20 + random.random() * 50\n",
        "  x = random.random() * (w-size)\n",
        "  y = random.random() * (h-size)\n",
        "\n",
        "  if random.random() * 2.0 < 1.0:\n",
        "    draw.rectangle((x,y,x+size,y+size), fill=color[i], outline=(0,0,0))\n",
        "  else:\n",
        "    draw.ellipse((x,y,x+size,y+size), fill=color[i], outline=(0,0,0))\n",
        "\n",
        "display(im)\n",
        "\n"
      ],
      "metadata": {
        "id": "k8lP75XSFzKH",
        "colab": {
          "base_uri": "https://localhost:8080/",
          "height": 256
        },
        "outputId": "daff9a68-1dfe-4a55-a277-093081b6b27a"
      },
      "execution_count": null,
      "outputs": [
        {
          "output_type": "display_data",
          "data": {
            "image/png": "[encoded data removed]",
            "text/plain": [
              "<PIL.Image.Image image mode=RGB size=320x240 at 0x7F29E2852590>"
            ]
          },
          "metadata": {}
        }
      ]
    },
    {
      "cell_type": "markdown",
      "source": [
        "## 問題3解説\n",
        "解説はここに記入する．\n",
        "\n",
        "* 解説の執筆者の氏名を問題末尾に記入して下さい．複数人で作成した場合は連名で構いません．\n",
        "\n",
        "* 相手グループに問題を渡すときには，このファイルのコピーを作成し，解答例や解説を削除した上で，取得したリンクを共有する．"
      ],
      "metadata": {
        "id": "xTMQ7LZxMmTb"
      }
    },
    {
      "cell_type": "markdown",
      "source": [
        "---\n",
        "# 質問\n",
        "\n",
        "問題1～3を解答して，勉強になった点や身に付いた点などを回答欄に記入すること．"
      ],
      "metadata": {
        "id": "w8gdv8SRorcA"
      }
    },
    {
      "cell_type": "markdown",
      "source": [
        "## 回答欄\n",
        "\n",
        "ここに質問の回答を記入して下さい．"
      ],
      "metadata": {
        "id": "9Zqiw6TNpn3Q"
      }
    },
    {
      "cell_type": "markdown",
      "source": [
        "---\n",
        "# 注意事項　提出について\n",
        "以下の手順で提出すること．\n",
        "\n",
        "* メニューの「ファイル」-「ドライブにコピーを保存」を選択し，自分のGoogleドライブに課題を保存する．\n",
        "* メニューの「ファイル」-「ダウンロード」-「.ipynbファイルをダウンロード」を選択し，提出用ファイル(例えばProg2_13_kadai.ipynb)をダウンロードする．\n",
        "* ファイル名を次のように変更する．\n",
        "1. 相手グループの問題を解答したファイルは，「(学籍番号)-Prog2_13_kadai.ipynb」\n",
        "2. 自分のグループで作成した問題と解説のファイルは「(学籍番号)-Prog2_13_lecture.ipynb」\n",
        "* WebClassの所定の場所で提出する．上記1と2のファイルの提出先が異なるので，注意すること．\n",
        "* 個人で提出する上記1，2以外に，5限開始時にグループの代表者のみが2のファイルを提出する必要があるので，忘れないでください．"
      ],
      "metadata": {
        "id": "HHn948WCNHn3"
      }
    }
  ]
}